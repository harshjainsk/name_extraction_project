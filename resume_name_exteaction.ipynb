{
 "cells": [
  {
   "cell_type": "code",
   "execution_count": 1,
   "metadata": {},
   "outputs": [
    {
     "name": "stdout",
     "output_type": "stream",
     "text": [
      "[2024/01/17 12:08:03] ppocr DEBUG: Namespace(help='==SUPPRESS==', use_gpu=False, use_xpu=False, use_npu=False, ir_optim=True, use_tensorrt=False, min_subgraph_size=15, precision='fp32', gpu_mem=500, gpu_id=0, image_dir=None, page_num=0, det_algorithm='DB', det_model_dir='C:\\\\Users\\\\DELL/.paddleocr/whl\\\\det\\\\en\\\\en_PP-OCRv3_det_infer', det_limit_side_len=960, det_limit_type='max', det_box_type='quad', det_db_thresh=0.3, det_db_box_thresh=0.6, det_db_unclip_ratio=1.5, max_batch_size=10, use_dilation=False, det_db_score_mode='fast', det_east_score_thresh=0.8, det_east_cover_thresh=0.1, det_east_nms_thresh=0.2, det_sast_score_thresh=0.5, det_sast_nms_thresh=0.2, det_pse_thresh=0, det_pse_box_thresh=0.85, det_pse_min_area=16, det_pse_scale=1, scales=[8, 16, 32], alpha=1.0, beta=1.0, fourier_degree=5, rec_algorithm='SVTR_LCNet', rec_model_dir='C:\\\\Users\\\\DELL/.paddleocr/whl\\\\rec\\\\en\\\\en_PP-OCRv4_rec_infer', rec_image_inverse=True, rec_image_shape='3, 48, 320', rec_batch_num=6, max_text_length=25, rec_char_dict_path='c:\\\\Users\\\\DELL\\\\.conda\\\\envs\\\\cholamandalam\\\\lib\\\\site-packages\\\\paddleocr\\\\ppocr\\\\utils\\\\en_dict.txt', use_space_char=True, vis_font_path='./doc/fonts/simfang.ttf', drop_score=0.5, e2e_algorithm='PGNet', e2e_model_dir=None, e2e_limit_side_len=768, e2e_limit_type='max', e2e_pgnet_score_thresh=0.5, e2e_char_dict_path='./ppocr/utils/ic15_dict.txt', e2e_pgnet_valid_set='totaltext', e2e_pgnet_mode='fast', use_angle_cls=True, cls_model_dir='C:\\\\Users\\\\DELL/.paddleocr/whl\\\\cls\\\\ch_ppocr_mobile_v2.0_cls_infer', cls_image_shape='3, 48, 192', label_list=['0', '180'], cls_batch_num=6, cls_thresh=0.9, enable_mkldnn=False, cpu_threads=10, use_pdserving=False, warmup=False, sr_model_dir=None, sr_image_shape='3, 32, 128', sr_batch_num=1, draw_img_save_dir='./inference_results', save_crop_res=False, crop_res_save_dir='./output', use_mp=False, total_process_num=1, process_id=0, benchmark=False, save_log_path='./log_output/', show_log=True, use_onnx=False, output='./output', table_max_len=488, table_algorithm='TableAttn', table_model_dir=None, merge_no_span_structure=True, table_char_dict_path=None, layout_model_dir=None, layout_dict_path=None, layout_score_threshold=0.5, layout_nms_threshold=0.5, kie_algorithm='LayoutXLM', ser_model_dir=None, re_model_dir=None, use_visual_backbone=True, ser_dict_path='../train_data/XFUND/class_list_xfun.txt', ocr_order_method=None, mode='structure', image_orientation=False, layout=True, table=True, ocr=True, recovery=False, use_pdf2docx_api=False, invert=False, binarize=False, alphacolor=(255, 255, 255), lang='en', det=True, rec=True, type='ocr', ocr_version='PP-OCRv4', structure_version='PP-StructureV2')\n"
     ]
    }
   ],
   "source": [
    "from pdf2image import convert_from_path\n",
    "from PIL import Image\n",
    "import numpy as np\n",
    "\n",
    "from paddleocr import PaddleOCR\n",
    "\n",
    "\n",
    "ocr = PaddleOCR(use_angle_cls=True, lang='en')  # need to run only once to download and load model into memory\n"
   ]
  },
  {
   "cell_type": "code",
   "execution_count": 2,
   "metadata": {},
   "outputs": [],
   "source": [
    "def find_name_in_page(name, result):\n",
    "\n",
    "    for idx in range(len(result)):\n",
    "        res = result[idx]\n",
    "        # print(res)\n",
    "        # print(\"-----------------\")\n",
    "        for line_number in range(len(res)):\n",
    "            # print([res[line_number][1][0]])\n",
    "            # print(\"-----------------\")\n",
    "\n",
    "            textual_data = res[line_number][1][0].lower()\n",
    "\n",
    "            if textual_data.find(name) >= 0:\n",
    "                return {\n",
    "                    \"name searched\" : f\"{name}\",\n",
    "                    \"string extracted\" : f\"{textual_data}\",\n",
    "                    \"line number\" : f\"{line_number + 1}\"\n",
    "                }\n",
    "\n",
    "    # return \"Name not present in the document\"\n",
    "    return None\n",
    "            "
   ]
  },
  {
   "cell_type": "code",
   "execution_count": 3,
   "metadata": {},
   "outputs": [],
   "source": [
    "def apply_ocr_and_find_name(name, path_to_resume):\n",
    "\n",
    "\n",
    "    pages = convert_from_path(path_to_resume, 500, poppler_path='E:/cholamandalam-practice/poppler-23.11.0/Library/bin')\n",
    "\n",
    "    for page_number in range(len(pages)):\n",
    "\n",
    "        print(page_number)\n",
    "        \n",
    "\n",
    "        result = ocr.ocr(np.array(pages[page_number]), cls=True)  # Convert PIL image to NumPy array\n",
    "\n",
    "        print(len(result[0]))\n",
    "        print(\"------------------------\\n\\n\\n\" )\n",
    "\n",
    "        name_found = find_name_in_page(name, result)\n",
    "\n",
    "        if name_found is not None:\n",
    "\n",
    "            name_found[\"page number\"] = f\"{page_number + 1}\"\n",
    "\n",
    "            return name_found\n",
    "\n",
    "        # print(name_found)\n",
    "\n",
    "\n",
    "\n"
   ]
  },
  {
   "cell_type": "code",
   "execution_count": 4,
   "metadata": {},
   "outputs": [
    {
     "name": "stdout",
     "output_type": "stream",
     "text": [
      "0\n",
      "[2024/01/17 12:08:16] ppocr DEBUG: dt_boxes num : 93, elapsed : 0.7312188148498535\n",
      "[2024/01/17 12:08:17] ppocr DEBUG: cls num  : 93, elapsed : 1.0840325355529785\n",
      "[2024/01/17 12:08:45] ppocr DEBUG: rec_res num  : 93, elapsed : 27.859543800354004\n",
      "90\n",
      "------------------------\n",
      "\n",
      "\n",
      "\n",
      "{'name searched': 'harsh kumar', 'string extracted': 'harsh kumar', 'line number': '28', 'page number': '1'}\n",
      "-----------\n",
      "-----------\n",
      "-----------\n"
     ]
    }
   ],
   "source": [
    "print(apply_ocr_and_find_name('Harsh Kumar'.lower(), 'PassPort_Appointment_Receipt.pdf'))\n",
    "print(\"-----------\")\n",
    "print(\"-----------\")\n",
    "print(\"-----------\")\n"
   ]
  },
  {
   "cell_type": "code",
   "execution_count": 5,
   "metadata": {},
   "outputs": [
    {
     "name": "stdout",
     "output_type": "stream",
     "text": [
      "0\n",
      "[2024/01/17 12:08:55] ppocr DEBUG: dt_boxes num : 107, elapsed : 0.5661146640777588\n",
      "[2024/01/17 12:08:57] ppocr DEBUG: cls num  : 107, elapsed : 1.2809984683990479\n",
      "[2024/01/17 12:09:45] ppocr DEBUG: rec_res num  : 107, elapsed : 48.65333890914917\n",
      "99\n",
      "------------------------\n",
      "\n",
      "\n",
      "\n",
      "1\n",
      "[2024/01/17 12:09:46] ppocr DEBUG: dt_boxes num : 93, elapsed : 0.6277577877044678\n",
      "[2024/01/17 12:09:47] ppocr DEBUG: cls num  : 93, elapsed : 1.087751865386963\n",
      "[2024/01/17 12:10:15] ppocr DEBUG: rec_res num  : 93, elapsed : 28.080089330673218\n",
      "90\n",
      "------------------------\n",
      "\n",
      "\n",
      "\n",
      "{'name searched': 'harsh kumar', 'string extracted': 'harsh kumar', 'line number': '28', 'page number': '2'}\n"
     ]
    }
   ],
   "source": [
    "print(apply_ocr_and_find_name('Harsh Kumar'.lower(), 'PassPort Appointment Receipt_organized.pdf'))"
   ]
  },
  {
   "cell_type": "code",
   "execution_count": 33,
   "metadata": {},
   "outputs": [],
   "source": [
    "pages = convert_from_path('PassPort_Appointment_Receipt.pdf', 500, poppler_path='E:/cholamandalam-prac  tice/poppler-23.11.0/Library/bin')"
   ]
  },
  {
   "cell_type": "code",
   "execution_count": 34,
   "metadata": {},
   "outputs": [
    {
     "data": {
      "text/plain": [
       "3"
      ]
     },
     "execution_count": 34,
     "metadata": {},
     "output_type": "execute_result"
    }
   ],
   "source": [
    "len(pages)"
   ]
  },
  {
   "cell_type": "code",
   "execution_count": null,
   "metadata": {},
   "outputs": [],
   "source": []
  }
 ],
 "metadata": {
  "kernelspec": {
   "display_name": "cholamandalam",
   "language": "python",
   "name": "python3"
  },
  "language_info": {
   "codemirror_mode": {
    "name": "ipython",
    "version": 3
   },
   "file_extension": ".py",
   "mimetype": "text/x-python",
   "name": "python",
   "nbconvert_exporter": "python",
   "pygments_lexer": "ipython3",
   "version": "3.10.13"
  }
 },
 "nbformat": 4,
 "nbformat_minor": 2
}
