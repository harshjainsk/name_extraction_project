{
 "cells": [
  {
   "cell_type": "code",
   "execution_count": 12,
   "metadata": {},
   "outputs": [
    {
     "name": "stdout",
     "output_type": "stream",
     "text": [
      "[2024/01/19 10:40:36] ppocr DEBUG: Namespace(help='==SUPPRESS==', use_gpu=False, use_xpu=False, use_npu=False, ir_optim=True, use_tensorrt=False, min_subgraph_size=15, precision='fp32', gpu_mem=500, gpu_id=0, image_dir=None, page_num=0, det_algorithm='DB', det_model_dir='C:\\\\Users\\\\DELL/.paddleocr/whl\\\\det\\\\en\\\\en_PP-OCRv3_det_infer', det_limit_side_len=960, det_limit_type='max', det_box_type='quad', det_db_thresh=0.3, det_db_box_thresh=0.6, det_db_unclip_ratio=1.5, max_batch_size=10, use_dilation=False, det_db_score_mode='fast', det_east_score_thresh=0.8, det_east_cover_thresh=0.1, det_east_nms_thresh=0.2, det_sast_score_thresh=0.5, det_sast_nms_thresh=0.2, det_pse_thresh=0, det_pse_box_thresh=0.85, det_pse_min_area=16, det_pse_scale=1, scales=[8, 16, 32], alpha=1.0, beta=1.0, fourier_degree=5, rec_algorithm='SVTR_LCNet', rec_model_dir='C:\\\\Users\\\\DELL/.paddleocr/whl\\\\rec\\\\en\\\\en_PP-OCRv4_rec_infer', rec_image_inverse=True, rec_image_shape='3, 48, 320', rec_batch_num=6, max_text_length=25, rec_char_dict_path='c:\\\\Users\\\\DELL\\\\.conda\\\\envs\\\\cholamandalam\\\\lib\\\\site-packages\\\\paddleocr\\\\ppocr\\\\utils\\\\en_dict.txt', use_space_char=True, vis_font_path='./doc/fonts/simfang.ttf', drop_score=0.5, e2e_algorithm='PGNet', e2e_model_dir=None, e2e_limit_side_len=768, e2e_limit_type='max', e2e_pgnet_score_thresh=0.5, e2e_char_dict_path='./ppocr/utils/ic15_dict.txt', e2e_pgnet_valid_set='totaltext', e2e_pgnet_mode='fast', use_angle_cls=True, cls_model_dir='C:\\\\Users\\\\DELL/.paddleocr/whl\\\\cls\\\\ch_ppocr_mobile_v2.0_cls_infer', cls_image_shape='3, 48, 192', label_list=['0', '180'], cls_batch_num=6, cls_thresh=0.9, enable_mkldnn=False, cpu_threads=10, use_pdserving=False, warmup=False, sr_model_dir=None, sr_image_shape='3, 32, 128', sr_batch_num=1, draw_img_save_dir='./inference_results', save_crop_res=False, crop_res_save_dir='./output', use_mp=False, total_process_num=1, process_id=0, benchmark=False, save_log_path='./log_output/', show_log=True, use_onnx=False, output='./output', table_max_len=488, table_algorithm='TableAttn', table_model_dir=None, merge_no_span_structure=True, table_char_dict_path=None, layout_model_dir=None, layout_dict_path=None, layout_score_threshold=0.5, layout_nms_threshold=0.5, kie_algorithm='LayoutXLM', ser_model_dir=None, re_model_dir=None, use_visual_backbone=True, ser_dict_path='../train_data/XFUND/class_list_xfun.txt', ocr_order_method=None, mode='structure', image_orientation=False, layout=True, table=True, ocr=True, recovery=False, use_pdf2docx_api=False, invert=False, binarize=False, alphacolor=(255, 255, 255), lang='en', det=True, rec=True, type='ocr', ocr_version='PP-OCRv4', structure_version='PP-StructureV2')\n"
     ]
    }
   ],
   "source": [
    "from pdf2image import convert_from_path\n",
    "from PIL import Image\n",
    "import numpy as np\n",
    "\n",
    "from paddleocr import PaddleOCR, draw_ocr\n",
    "\n",
    "\n",
    "ocr = PaddleOCR(use_angle_cls=True, lang='en')  # need to run only once to download and load model into memory\n"
   ]
  },
  {
   "cell_type": "code",
   "execution_count": 2,
   "metadata": {},
   "outputs": [],
   "source": [
    "def find_name_in_page(name, result):\n",
    "\n",
    "    for idx in range(len(result)):\n",
    "        res = result[idx]\n",
    "        # print(res)\n",
    "        # print(\"-----------------\")\n",
    "        for line_number in range(len(res)):\n",
    "            # print([res[line_number][1][0]])\n",
    "            # print(\"-----------------\")\n",
    "\n",
    "            textual_data = res[line_number][1][0].lower()\n",
    "\n",
    "            if textual_data.find(name) >= 0:\n",
    "                return {\n",
    "                    \"name searched\" : f\"{name}\",\n",
    "                    \"string extracted\" : f\"{textual_data}\",\n",
    "                    \"line number\" : f\"{line_number + 1}\"\n",
    "                }\n",
    "\n",
    "    # return \"Name not present in the document\"\n",
    "    return None\n",
    "            "
   ]
  },
  {
   "cell_type": "code",
   "execution_count": 3,
   "metadata": {},
   "outputs": [],
   "source": [
    "def apply_ocr_and_find_name(name, path_to_resume):\n",
    "\n",
    "\n",
    "    pages = convert_from_path(path_to_resume, 500, poppler_path='E:/cholamandalam-practice/poppler-23.11.0/Library/bin')\n",
    "\n",
    "    for page_number in range(len(pages)):\n",
    "\n",
    "        print(page_number)\n",
    "        \n",
    "\n",
    "        result = ocr.ocr(np.array(pages[page_number]), cls=True)  # Convert PIL image to NumPy array\n",
    "\n",
    "        print(len(result[0]))\n",
    "        print(\"------------------------\\n\\n\\n\" )\n",
    "\n",
    "        name_found = find_name_in_page(name, result)\n",
    "\n",
    "        if name_found is not None:\n",
    "\n",
    "            name_found[\"page number\"] = f\"{page_number + 1}\"\n",
    "\n",
    "            return name_found\n",
    "\n",
    "        # print(name_found)\n",
    "\n",
    "\n",
    "\n"
   ]
  },
  {
   "cell_type": "code",
   "execution_count": 4,
   "metadata": {},
   "outputs": [
    {
     "name": "stdout",
     "output_type": "stream",
     "text": [
      "0\n",
      "[2024/01/17 12:08:16] ppocr DEBUG: dt_boxes num : 93, elapsed : 0.7312188148498535\n",
      "[2024/01/17 12:08:17] ppocr DEBUG: cls num  : 93, elapsed : 1.0840325355529785\n",
      "[2024/01/17 12:08:45] ppocr DEBUG: rec_res num  : 93, elapsed : 27.859543800354004\n",
      "90\n",
      "------------------------\n",
      "\n",
      "\n",
      "\n",
      "{'name searched': 'harsh kumar', 'string extracted': 'harsh kumar', 'line number': '28', 'page number': '1'}\n",
      "-----------\n",
      "-----------\n",
      "-----------\n"
     ]
    }
   ],
   "source": [
    "print(apply_ocr_and_find_name('Harsh Kumar'.lower(), 'PassPort_Appointment_Receipt.pdf'))\n",
    "print(\"-----------\")\n",
    "print(\"-----------\")\n",
    "print(\"-----------\")\n"
   ]
  },
  {
   "cell_type": "code",
   "execution_count": 5,
   "metadata": {},
   "outputs": [
    {
     "name": "stdout",
     "output_type": "stream",
     "text": [
      "0\n",
      "[2024/01/17 12:08:55] ppocr DEBUG: dt_boxes num : 107, elapsed : 0.5661146640777588\n",
      "[2024/01/17 12:08:57] ppocr DEBUG: cls num  : 107, elapsed : 1.2809984683990479\n",
      "[2024/01/17 12:09:45] ppocr DEBUG: rec_res num  : 107, elapsed : 48.65333890914917\n",
      "99\n",
      "------------------------\n",
      "\n",
      "\n",
      "\n",
      "1\n",
      "[2024/01/17 12:09:46] ppocr DEBUG: dt_boxes num : 93, elapsed : 0.6277577877044678\n",
      "[2024/01/17 12:09:47] ppocr DEBUG: cls num  : 93, elapsed : 1.087751865386963\n",
      "[2024/01/17 12:10:15] ppocr DEBUG: rec_res num  : 93, elapsed : 28.080089330673218\n",
      "90\n",
      "------------------------\n",
      "\n",
      "\n",
      "\n",
      "{'name searched': 'harsh kumar', 'string extracted': 'harsh kumar', 'line number': '28', 'page number': '2'}\n"
     ]
    }
   ],
   "source": [
    "print(apply_ocr_and_find_name('Harsh Kumar'.lower(), 'PassPort Appointment Receipt_organized.pdf'))"
   ]
  },
  {
   "cell_type": "code",
   "execution_count": 33,
   "metadata": {},
   "outputs": [],
   "source": [
    "pages = convert_from_path('PassPort_Appointment_Receipt.pdf', 500, poppler_path='E:/cholamandalam-prac  tice/poppler-23.11.0/Library/bin')"
   ]
  },
  {
   "cell_type": "code",
   "execution_count": 34,
   "metadata": {},
   "outputs": [
    {
     "data": {
      "text/plain": [
       "3"
      ]
     },
     "execution_count": 34,
     "metadata": {},
     "output_type": "execute_result"
    }
   ],
   "source": [
    "len(pages)"
   ]
  },
  {
   "cell_type": "code",
   "execution_count": 2,
   "metadata": {},
   "outputs": [
    {
     "data": {
      "text/plain": [
       "'--------------------------------------------------'"
      ]
     },
     "execution_count": 2,
     "metadata": {},
     "output_type": "execute_result"
    }
   ],
   "source": [
    "\"--------------------------------------------------\"\n",
    "\"--------------------------------------------------\"\n",
    "\"--------------------------------------------------\"\n",
    "\"--------------------------------------------------\""
   ]
  },
  {
   "cell_type": "code",
   "execution_count": 26,
   "metadata": {},
   "outputs": [
    {
     "name": "stdout",
     "output_type": "stream",
     "text": [
      "0\n",
      "[2024/01/19 11:14:42] ppocr DEBUG: dt_boxes num : 66, elapsed : 0.6599729061126709\n",
      "[2024/01/19 11:14:43] ppocr DEBUG: cls num  : 66, elapsed : 1.1071603298187256\n",
      "[2024/01/19 11:15:12] ppocr DEBUG: rec_res num  : 66, elapsed : 28.662733793258667\n"
     ]
    }
   ],
   "source": [
    "pages = convert_from_path(\"Harsh_Kumar_Jain_Resume.pdf\", 500, poppler_path='poppler-23.11.0/Library/bin')\n",
    "for page_number in range(len(pages)):\n",
    "\n",
    "    print(page_number)\n",
    "\n",
    "\n",
    "    result = ocr.ocr(np.array(pages[page_number]), cls=True)  # Convert PIL image to NumPy array\n",
    "    \n",
    "\n",
    "   "
   ]
  },
  {
   "cell_type": "code",
   "execution_count": 27,
   "metadata": {},
   "outputs": [],
   "source": [
    "temp_result = result"
   ]
  },
  {
   "cell_type": "code",
   "execution_count": 13,
   "metadata": {},
   "outputs": [
    {
     "ename": "TypeError",
     "evalue": "'float' object is not subscriptable",
     "output_type": "error",
     "traceback": [
      "\u001b[1;31m---------------------------------------------------------------------------\u001b[0m",
      "\u001b[1;31mTypeError\u001b[0m                                 Traceback (most recent call last)",
      "Cell \u001b[1;32mIn[13], line 4\u001b[0m\n\u001b[0;32m      2\u001b[0m result \u001b[38;5;241m=\u001b[39m result[\u001b[38;5;241m0\u001b[39m]\n\u001b[0;32m      3\u001b[0m image \u001b[38;5;241m=\u001b[39m pages[\u001b[38;5;241m0\u001b[39m]\u001b[38;5;241m.\u001b[39mconvert(\u001b[38;5;124m'\u001b[39m\u001b[38;5;124mRGB\u001b[39m\u001b[38;5;124m'\u001b[39m)\n\u001b[1;32m----> 4\u001b[0m im_show \u001b[38;5;241m=\u001b[39m draw_ocr(image, \u001b[43mresult\u001b[49m\u001b[43m[\u001b[49m\u001b[38;5;241;43m0\u001b[39;49m\u001b[43m]\u001b[49m)\n\u001b[0;32m      5\u001b[0m im_show \u001b[38;5;241m=\u001b[39m Image\u001b[38;5;241m.\u001b[39mfromarray(im_show)\n\u001b[0;32m      6\u001b[0m im_show\u001b[38;5;241m.\u001b[39msave(\u001b[38;5;124m'\u001b[39m\u001b[38;5;124mresult.jpg\u001b[39m\u001b[38;5;124m'\u001b[39m)\n",
      "\u001b[1;31mTypeError\u001b[0m: 'float' object is not subscriptable"
     ]
    }
   ],
   "source": [
    "# from PIL import Image\n",
    "# result = result[0]\n",
    "# image = pages[0].convert('RGB')\n",
    "# im_show = draw_ocr(image, result[0])\n",
    "# im_show = Image.fromarray(im_show)\n",
    "# im_show.save('result.jpg')"
   ]
  },
  {
   "cell_type": "code",
   "execution_count": 55,
   "metadata": {},
   "outputs": [],
   "source": [
    "from PIL import Image, ImageDraw\n",
    "# result = [result[0][0]]\n",
    "image = pages[0].convert('RGB')\n",
    "# boxes = [line[0] for line in result]\n",
    "# txts = [line[1][0] for line in result]\n",
    "# scores = [line[1][1] for line in result]\n",
    "# im_show = draw_ocr(image, result[0][0][0])\n",
    "# im_show = Image.fromarray(im_show)\n",
    "# im_show.save('result.jpg')"
   ]
  },
  {
   "cell_type": "code",
   "execution_count": 56,
   "metadata": {},
   "outputs": [
    {
     "data": {
      "text/plain": [
       "[[1276.0, 143.0], [2968.0, 143.0], [2968.0, 258.0], [1276.0, 258.0]]"
      ]
     },
     "execution_count": 56,
     "metadata": {},
     "output_type": "execute_result"
    }
   ],
   "source": [
    "result[0][0][0]"
   ]
  },
  {
   "cell_type": "code",
   "execution_count": 57,
   "metadata": {},
   "outputs": [],
   "source": [
    "draw = ImageDraw.Draw(image)\n",
    "for i, box in enumerate([temp_result[0][0]]):\n",
    "    box = np.array(box[0]).astype(np.int32)\n",
    "    xmin = min(box[:, 0])\n",
    "    ymin = min(box[:, 1])\n",
    "    xmax = max(box[:, 0])\n",
    "    ymax = max(box[:, 1])\n",
    "    draw.rectangle((xmin, ymin, xmax, ymax), outline=\"red\", width=3)\n",
    "    draw.text((xmin, ymin), f\"{i}\", fill=\"black\")"
   ]
  },
  {
   "cell_type": "code",
   "execution_count": 58,
   "metadata": {},
   "outputs": [],
   "source": [
    "image.show()"
   ]
  },
  {
   "cell_type": "code",
   "execution_count": 54,
   "metadata": {},
   "outputs": [
    {
     "data": {
      "text/plain": [
       "[[[[1276.0, 143.0], [2968.0, 143.0], [2968.0, 258.0], [1276.0, 258.0]],\n",
       "  ('HARSH KUMAR JAIN', 0.99831223487854)]]"
      ]
     },
     "execution_count": 54,
     "metadata": {},
     "output_type": "execute_result"
    }
   ],
   "source": [
    "[temp_result[0][0]]"
   ]
  },
  {
   "cell_type": "code",
   "execution_count": 90,
   "metadata": {},
   "outputs": [],
   "source": [
    "def find_name_in_page(name, result):\n",
    "\n",
    "    for idx in range(len(result)):\n",
    "        res = result[idx]\n",
    "\n",
    "        for line_number in range(len(res)):\n",
    "            print([res[line_number][1][0]])\n",
    "            textual_data = res[line_number][1][0].lower()\n",
    "            if textual_data.find(name) >= 0:\n",
    "\n",
    "                print([res[line_number][0]])\n",
    "                return {\n",
    "                    \"name searched\" : f\"{name}\",\n",
    "                    \"string extracted\" : f\"{textual_data}\",\n",
    "                    \"line number\" : f\"{line_number + 1}\",\n",
    "                    \"coordinates\" : [[res[line_number][0]]]\n",
    "                }\n",
    "\n",
    "            print(\"-----------------\")\n",
    "\n",
    "\n",
    "    # return \"Name not present in the document\"\n",
    "    return None"
   ]
  },
  {
   "cell_type": "code",
   "execution_count": 92,
   "metadata": {},
   "outputs": [
    {
     "name": "stdout",
     "output_type": "stream",
     "text": [
      "['HARSH KUMAR JAIN']\n",
      "[[[1276.0, 143.0], [2968.0, 143.0], [2968.0, 258.0], [1276.0, 258.0]]]\n",
      "{'name searched': 'harsh kumar jain', 'string extracted': 'harsh kumar jain', 'line number': '1', 'coordinates': [[[[1276.0, 143.0], [2968.0, 143.0], [2968.0, 258.0], [1276.0, 258.0]]]]}\n"
     ]
    }
   ],
   "source": [
    "print(find_name_in_page(name=\"harsh kumar jain\", result=temp_result))"
   ]
  },
  {
   "cell_type": "code",
   "execution_count": 97,
   "metadata": {},
   "outputs": [],
   "source": [
    "def draw_bounding_box(image, coordinates):\n",
    "\n",
    "    draw = ImageDraw.Draw(image)\n",
    "\n",
    "    for i, box in enumerate(coordinates):\n",
    "    # for i, box in enumerate([temp_result[0][0]]):  # replace with coordinates\n",
    "        box = np.array(box[0]).astype(np.int32)\n",
    "        xmin = min(box[:, 0])\n",
    "        ymin = min(box[:, 1])\n",
    "        xmax = max(box[:, 0])\n",
    "        ymax = max(box[:, 1])\n",
    "        draw.rectangle((xmin, ymin, xmax, ymax), outline=\"red\", width=10)\n",
    "        draw.text((xmin, ymin), f\"{i}\", fill=\"black\")\n",
    "\n",
    "        return image"
   ]
  },
  {
   "cell_type": "code",
   "execution_count": 100,
   "metadata": {},
   "outputs": [],
   "source": [
    "from PIL import Image  # install by > python3 -m pip install --upgrade Pillow  # ref. https://pillow.readthedocs.io/en/latest/installation.html#basic-installation\n",
    "\n",
    "images = pages\n",
    "\n",
    "pdf_path = \"static/temp/bbd1.pdf\"\n",
    "    \n",
    "images[0].save(\n",
    "    pdf_path, \"PDF\" ,resolution=100.0, save_all=True, append_images=images[1:]\n",
    ")"
   ]
  },
  {
   "cell_type": "code",
   "execution_count": 98,
   "metadata": {},
   "outputs": [],
   "source": [
    "image = draw_bounding_box(image=pages[0].convert('RGB'), coordinates=[temp_result[0][0]])\n",
    "image.show()"
   ]
  },
  {
   "cell_type": "code",
   "execution_count": 82,
   "metadata": {},
   "outputs": [],
   "source": [
    "pages[0].convert('RGB').show()"
   ]
  },
  {
   "cell_type": "code",
   "execution_count": 105,
   "metadata": {},
   "outputs": [],
   "source": [
    "def convert_images_to_pdf(list_of_images):\n",
    "\n",
    "    images = list_of_images\n",
    "\n",
    "    pdf_path = \"static/temp/bbd1.pdf\"\n",
    "        \n",
    "    images[0].save(\n",
    "        pdf_path, \"PDF\" ,resolution=100.0, save_all=True, append_images=images[1:]\n",
    "    )"
   ]
  },
  {
   "cell_type": "code",
   "execution_count": 106,
   "metadata": {},
   "outputs": [],
   "source": [
    "def apply_ocr_and_find_name(name, path_to_resume):\n",
    "\n",
    "\n",
    "    pages = convert_from_path(path_to_resume, 500, poppler_path='poppler-23.11.0/Library/bin')\n",
    "\n",
    "    for page_number in range(len(pages)):\n",
    "\n",
    "        print(page_number)\n",
    "\n",
    "        \n",
    "\n",
    "        result = ocr.ocr(np.array(pages[page_number]), cls=True)  # Convert PIL image to NumPy array\n",
    "\n",
    "        print(len(result[0]))\n",
    "        print(\"------------------------\\n\\n\\n\" )\n",
    "\n",
    "        name_found = find_name_in_page(name, result)\n",
    "\n",
    "        if name_found is not None:\n",
    "\n",
    "            name_found[\"page number\"] = f\"{page_number + 1}\"\n",
    "            \n",
    "            updated_image = draw_bounding_box(image=pages[page_number], coordinates=name_found['coordinates'])\n",
    "\n",
    "            pages[page_number] = updated_image\n",
    "\n",
    "            convert_images_to_pdf(pages)\n",
    "\n",
    "            return name_found\n",
    "\n",
    "        # print(name_found)"
   ]
  },
  {
   "cell_type": "code",
   "execution_count": 108,
   "metadata": {},
   "outputs": [
    {
     "name": "stdout",
     "output_type": "stream",
     "text": [
      "0\n",
      "[2024/01/19 13:12:04] ppocr DEBUG: dt_boxes num : 93, elapsed : 0.6573638916015625\n",
      "[2024/01/19 13:12:06] ppocr DEBUG: cls num  : 93, elapsed : 1.0874557495117188\n",
      "[2024/01/19 13:12:34] ppocr DEBUG: rec_res num  : 93, elapsed : 28.385490894317627\n",
      "90\n",
      "------------------------\n",
      "\n",
      "\n",
      "\n",
      "['12/9/23, 6:02 PM']\n",
      "-----------------\n",
      "['Appointment Receipt']\n",
      "-----------------\n",
      "['Passport']\n",
      "-----------------\n",
      "['Seva']\n",
      "-----------------\n",
      "['Service Excelience']\n",
      "-----------------\n",
      "['23-0021740118']\n",
      "-----------------\n",
      "['fa?a HaIdy HRd HRqR']\n",
      "-----------------\n",
      "['Ministry of External Affairs, Government of India']\n",
      "-----------------\n",
      "['Online Appointment Receipt']\n",
      "-----------------\n",
      "['Applicant Details:']\n",
      "-----------------\n",
      "['Payment Details#']\n",
      "-----------------\n",
      "['Application Reference']\n",
      "-----------------\n",
      "['Total Fee (Rs.)']\n",
      "-----------------\n",
      "['1500.00']\n",
      "-----------------\n",
      "['23-0021740118']\n",
      "-----------------\n",
      "['No.(ARN)']\n",
      "-----------------\n",
      "['PeReSHport']\n",
      "-----------------\n",
      "['Paid Fee (Rs.)']\n",
      "-----------------\n",
      "['1500.00']\n",
      "-----------------\n",
      "['Service Type']\n",
      "-----------------\n",
      "['09/12/202306:00PM']\n",
      "-----------------\n",
      "['Date and Time']\n",
      "-----------------\n",
      "['Type of Application']\n",
      "-----------------\n",
      "['NORMAL']\n",
      "-----------------\n",
      "['CPADIFOKI2']\n",
      "-----------------\n",
      "['Transaction Id']\n",
      "-----------------\n",
      "['Given Name']\n",
      "-----------------\n",
      "['HARSH KUMAR']\n",
      "[[[904.0, 1504.0], [1328.0, 1504.0], [1328.0, 1571.0], [904.0, 1571.0]]]\n",
      "{'name searched': 'harsh kumar', 'string extracted': 'harsh kumar', 'line number': '28', 'coordinates': [[[[904.0, 1504.0], [1328.0, 1504.0], [1328.0, 1571.0], [904.0, 1571.0]]]], 'page number': '1'}\n"
     ]
    }
   ],
   "source": [
    "print(apply_ocr_and_find_name(\"harsh kumar\", \"PassPort_Appointment_Receipt.pdf\"))"
   ]
  },
  {
   "cell_type": "code",
   "execution_count": null,
   "metadata": {},
   "outputs": [],
   "source": []
  }
 ],
 "metadata": {
  "kernelspec": {
   "display_name": "cholamandalam",
   "language": "python",
   "name": "python3"
  },
  "language_info": {
   "codemirror_mode": {
    "name": "ipython",
    "version": 3
   },
   "file_extension": ".py",
   "mimetype": "text/x-python",
   "name": "python",
   "nbconvert_exporter": "python",
   "pygments_lexer": "ipython3",
   "version": "3.10.13"
  }
 },
 "nbformat": 4,
 "nbformat_minor": 2
}
